{
 "cells": [
  {
   "cell_type": "markdown",
   "metadata": {},
   "source": [
    "# Automatic Differentiation With torch.autograd\n",
    "When training neural networks, the most frequently used algorithm is **back propagation**.\n",
    "In this algorithm, parameters (model weights) are adjusted according to the **gradient** \n",
    "of the loss function with respect to the given parameter.\n",
    "\n",
    "To compute those gradients, PyTorch has built-in differentiation engine called `torch.autograd`.\n",
    "It supports automatic computation of gradient for any computational graph.\n",
    "\n",
    "consider the simplest one-layer neural network, with input `x`, parameters `w` and `b`,\n",
    "and some loss function.\n",
    "It can be defined in PyTorch in the following manner:"
   ]
  },
  {
   "cell_type": "code",
   "execution_count": 1,
   "metadata": {},
   "outputs": [],
   "source": [
    "import torch\n",
    "\n",
    "x = torch.ones(5)   # input tensor\n",
    "y = torch.zeros(3)  # expected output\n",
    "w = torch.randn(5, 3, requires_grad=True)\n",
    "b = torch.randn(3, requires_grad=True)\n",
    "z = torch.matmul(x, w)+b\n",
    "loss = torch.nn.functional.binary_cross_entropy_with_logits(z, y)"
   ]
  },
  {
   "cell_type": "markdown",
   "metadata": {},
   "source": [
    "## Tensors, Functions and Computational graph\n",
    "This code defines **computational graph**\n",
    "\n",
    "In this network, w and b are parameters, which we need to optimize. Thus, we need to be able to compute\n",
    "the gradients of loss function with respect to those variables. In order to do that, we set the `requires_grad`\n",
    "property of those tensors.\n",
    "\n",
    "NOTE: you can set the value of `requires_grad` when creating a tensor, or later by using\n",
    "`x.requires_grad_(True)` method.\n",
    "\n",
    "A function that we apply to tensor to construct computational graph is in fact and object of class `Function`.\n",
    "This object knows how to compute the function in the forward direction, and also how to compute its\n",
    "derivative during the *backward propagation* step. A reference to the backward propagation function is stored\n",
    "in `grad_fn` property of a tensor. You can find more information of `Function` in the documentation."
   ]
  },
  {
   "cell_type": "code",
   "execution_count": 2,
   "metadata": {},
   "outputs": [
    {
     "name": "stdout",
     "output_type": "stream",
     "text": [
      "Gradient function for z = <AddBackward0 object at 0x000001F665E45A20>\n",
      "Gradent function for loss = <BinaryCrossEntropyWithLogitsBackward0 object at 0x000001F665E46230>\n"
     ]
    }
   ],
   "source": [
    "print(f\"Gradient function for z = {z.grad_fn}\")\n",
    "print(f\"Gradent function for loss = {loss.grad_fn}\")"
   ]
  },
  {
   "cell_type": "markdown",
   "metadata": {},
   "source": [
    "## Computing Gradients\n",
    "To optimize weights of parameters in the neural network, we need to compute the derivatives of our loss\n",
    "function with respect to parameters, namely, we need \n",
    "$ \\frac {\\partial loss} {\\partial w} $ and $ \\frac {\\partial loss} {\\partial b} $\n",
    "under some fixed values of `x` and `y`.\n",
    "To compute those derivatives, we call `loss.backward()`, and then retrive the values from `w.grad` and `b.grad`:"
   ]
  },
  {
   "cell_type": "code",
   "execution_count": 3,
   "metadata": {},
   "outputs": [
    {
     "name": "stdout",
     "output_type": "stream",
     "text": [
      "tensor([[0.2560, 0.2273, 0.0140],\n",
      "        [0.2560, 0.2273, 0.0140],\n",
      "        [0.2560, 0.2273, 0.0140],\n",
      "        [0.2560, 0.2273, 0.0140],\n",
      "        [0.2560, 0.2273, 0.0140]])\n",
      "tensor([0.2560, 0.2273, 0.0140])\n"
     ]
    }
   ],
   "source": [
    "loss.backward()\n",
    "print(w.grad)\n",
    "print(b.grad)"
   ]
  },
  {
   "cell_type": "markdown",
   "metadata": {},
   "source": [
    "NOTE:\n",
    "- We can only obtain `grad` properties for the leaf node of the computational graph, which have `requires_grad` property set to `True`. for all other nodes in our graph, gradients will not be availabe.\n",
    "\n",
    "- We can only perform gradient calculations useing `backward` once on a given graph, for performance reasons. If we need several `backward` calls on the same graph, we need to pass `retain_graph=True` to the `backward` call.\n",
    "\n",
    "\n",
    "## Disabling Gradient Tracking\n",
    "By default, all tensors with `requires_grad=True` are tracking their computational history and support\n",
    "gardient computation. However, there are some cases when we do not need to do that, for example, when we have\n",
    "trained the model and just want to apply it to some input data, i.e. we only want to do forward computations\n",
    "through the network. We can stop tracking computations by surrounding our computation code with `torch.no_grad()` block."
   ]
  },
  {
   "cell_type": "code",
   "execution_count": 4,
   "metadata": {},
   "outputs": [
    {
     "name": "stdout",
     "output_type": "stream",
     "text": [
      "True\n",
      "False\n"
     ]
    }
   ],
   "source": [
    "z = torch.matmul(x, w)+b\n",
    "print(z.requires_grad)\n",
    "\n",
    "with torch.no_grad():\n",
    "    z = torch.matmul(x, w)+b\n",
    "\n",
    "print(z.requires_grad)"
   ]
  },
  {
   "cell_type": "markdown",
   "metadata": {},
   "source": [
    "There are reasons you might want to disable gradient tracking:\n",
    "- to mark some parameters in your neuralnetwork as **frozen parameters**. This is a very common scenario for finetuning a pretrained network\n",
    "- To **speed up computations** when you are only doing forward pass, because computations on tensors that do not track gradients would be more efficient.\n",
    "\n",
    "\n",
    "## More on Computational Graphs\n",
    "Conceptually, autograd keeps a record of data (tensors) and executed operations (along with resulting neew tensors) in a directed acyclic graph (DAG) consisting of `Function` object. In this DAG, leaves are the input tensors, roots are the output tensors. By tracing this graph from roots to leaves, you can zutomatically compute the gradients using the chain rule.\n",
    "\n",
    "In a forward pass, autograd does two things simultaneously:\n",
    "- run the requested operation to compute a resulting tensor\n",
    "- maintain the operation's gradient function in the DAG\n",
    "\n",
    "Th backward pass kicks off when `.backward()` is called on the DAG root. `autograd` then:\n",
    "- computes the gradients from each `.grad_fn`\n",
    "- accumulates them in the respective tensor's `.grad` attribute\n",
    "- using the chain rule, propagetes all the way to the leaf tensors.\n",
    "\n",
    "NOTE:\n",
    "**DAGs are dynamic in PyTorch** An imprtant thing to note is that the graph is recreated from scratch;\n",
    "after each `.backward()` call, autograd starts populating a new graph. This is exactly what allows you to use control flow statements in your model; you can change the shape, size and operations at every iteration if needed.\n",
    "\n",
    "## Optional Reading: Tensor Gradients and Jacobian Products\n",
    "In many cases, we have a xcalar loss function, and we need to compute the gradient with respect to some parameters.\n",
    "However, there are cases when the output is an arbitrary tensor. In this case, PyTorch allows you to compute\n",
    "so-called **Jacobian product**, and not the actual gradient.\n",
    "\n",
    "For a vector function $ \\vec{y} = f(\\vec{x}) $,\n",
    "where $ \\vec{x} = \\langle x_1, \\ldots, x_n \\rangle $ and $ \\vec{y} = \\langle y_1, \\ldots, y_m \\rangle $,\n",
    "a gradient of $ \\vec{y} $ with respect to $ \\vec{x} $ is given by **Jacobian matrix**:\n",
    "$$\n",
    "\\boldsymbol{J} =\n",
    "    \\begin{pmatrix}\n",
    "        \\frac{\\partial y_1}{\\partial x_1} & \\cdots & \\frac{\\partial y_1}{\\partial x_n} \\\\\n",
    "        \\vdots & \\ddots & \\vdots \\\\\n",
    "        \\frac{\\partial y_m}{\\partial x_1} & \\cdots & \\frac{y_m}{x_n}\n",
    "    \\end{pmatrix}\n",
    "$$\n",
    "\n",
    "Instead of computing the Jacobian matrix itself, PyTorch allows you to compute **Jacobian Product** $ v^T \\cdot J $ for a given input vector $ v = (v_1 \\ldots v_m) $. This is achieved by calling `backward` with $ v $ as an argument. The size of $ v $ should be the same as the size of the original tensor, with respect to which we want to compute the product:"
   ]
  },
  {
   "cell_type": "code",
   "execution_count": 6,
   "metadata": {},
   "outputs": [
    {
     "name": "stdout",
     "output_type": "stream",
     "text": [
      "First call\n",
      "tensor([[4., 2., 2., 2., 2.],\n",
      "        [2., 4., 2., 2., 2.],\n",
      "        [2., 2., 4., 2., 2.],\n",
      "        [2., 2., 2., 4., 2.],\n",
      "        [2., 2., 2., 2., 4.]])\n",
      "\n",
      "Second call\n",
      "tensor([[8., 4., 4., 4., 4.],\n",
      "        [4., 8., 4., 4., 4.],\n",
      "        [4., 4., 8., 4., 4.],\n",
      "        [4., 4., 4., 8., 4.],\n",
      "        [4., 4., 4., 4., 8.]])\n",
      "\n",
      "Call after zeroing gradients\n",
      " tensor([[4., 2., 2., 2., 2.],\n",
      "        [2., 4., 2., 2., 2.],\n",
      "        [2., 2., 4., 2., 2.],\n",
      "        [2., 2., 2., 4., 2.],\n",
      "        [2., 2., 2., 2., 4.]])\n"
     ]
    }
   ],
   "source": [
    "inp = torch.eye(5, requires_grad=True)\n",
    "out = (inp+1).pow(2)\n",
    "out.backward(torch.ones_like(inp), retain_graph=True)\n",
    "print(f\"First call\\n{inp.grad}\")\n",
    "out.backward(torch.ones_like(inp), retain_graph=True)\n",
    "print(f\"\\nSecond call\\n{inp.grad}\")\n",
    "inp.grad.zero_()\n",
    "out.backward(torch.ones_like(inp), retain_graph=True)\n",
    "print(f\"\\nCall after zeroing gradients\\n {inp.grad}\")"
   ]
  },
  {
   "cell_type": "markdown",
   "metadata": {},
   "source": [
    "Notice that when we call `backward` for the second time with the same argument, the value of the gradient is different.\n",
    "This happens because when doing `backward` propagation, PyTorch **accumulates the gradients**, i.e. the value of computed gradients is added to the `grad` property of all leaf nodes of computational graph. If you want to compute the proper gradients, you need to zero out the `grad` property before. In real-life training an *optimizer* helps us to do this.\n",
    "\n",
    "NOTE:\n",
    "Previously we were calling `backward(torch.tensor(1.0))` which is a useful way to compute the gradients is case of a scalar-valued function, such as loss during neural network training."
   ]
  }
 ],
 "metadata": {
  "kernelspec": {
   "display_name": "Python 3.10.4 64-bit",
   "language": "python",
   "name": "python3"
  },
  "language_info": {
   "codemirror_mode": {
    "name": "ipython",
    "version": 3
   },
   "file_extension": ".py",
   "mimetype": "text/x-python",
   "name": "python",
   "nbconvert_exporter": "python",
   "pygments_lexer": "ipython3",
   "version": "3.10.4"
  },
  "orig_nbformat": 4,
  "vscode": {
   "interpreter": {
    "hash": "b45196988e397c3f9973087e1b537003606a4f189ad9734f2bca00ff29e85777"
   }
  }
 },
 "nbformat": 4,
 "nbformat_minor": 2
}
