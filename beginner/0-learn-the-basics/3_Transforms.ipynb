{
 "cells": [
  {
   "cell_type": "markdown",
   "metadata": {},
   "source": [
    "# Transforms\n",
    "\n",
    "Data does not always come in its final processed form that is reuqired for training machine learning\n",
    "algorithms. We use transforms to perform some manipulation of the data and make it suitable for training.\n",
    "\n",
    "All TorchVision datasets have two parameters - `transform` to modify the features and `target_transform`\n",
    "to modify the labels - that accept callables containing the transformation logic. The `torchvision.transforms`\n",
    "module offers several commonly-used transforms out of the box.\n",
    "\n",
    "The FashionMNIST features are in PIL Image format, and the labels are integers. For training, we need\n",
    "the features as normalized tensors, and the labels as one-hot encoded tensors. To make these transformations,\n",
    "we use `ToTensor` and `Lambda`."
   ]
  },
  {
   "cell_type": "code",
   "execution_count": 1,
   "metadata": {},
   "outputs": [],
   "source": [
    "import torch\n",
    "from torchvision import datasets\n",
    "from torchvision.transforms import ToTensor, Lambda\n",
    "\n",
    "ds = datasets.FashionMNIST(\n",
    "    root=\"data\",\n",
    "    train=True,\n",
    "    download=True,\n",
    "    transform=ToTensor(),\n",
    "    target_transform=Lambda(lambda y: torch.zeros(10, \n",
    "        dtype = torch.float).scatter_(dim=0, index=torch.tensor(y), value=1))\n",
    ")"
   ]
  },
  {
   "cell_type": "markdown",
   "metadata": {},
   "source": [
    "## ToTensor()\n",
    "`ToTensor` converts a PIL image or NumPy `ndarray` into a `FloatTensor` and scales the image's\n",
    "pixel intensity valuesint the range [0., 1.]\n",
    "\n",
    "## Lambda Transforms\n",
    "Lambda transforms apply any user-defined lambda function. Here, we define a function to turn the integer \n",
    "into a one-hot encoded tensor. It first creates a zero tensor of size 10 (the number of labels in our dataset)\n",
    "and calls `scatter_` which assigns a `value=1` on the index as given by the label `y`."
   ]
  },
  {
   "cell_type": "code",
   "execution_count": 5,
   "metadata": {},
   "outputs": [
    {
     "name": "stdout",
     "output_type": "stream",
     "text": [
      "tensor([0., 0., 0., 0., 0., 0., 0., 0., 0., 1.])\n",
      "tensor([1., 0., 0., 0., 0., 0., 0., 0., 0., 0.])\n",
      "tensor([1., 0., 0., 0., 0., 0., 0., 0., 0., 0.])\n",
      "tensor([0., 0., 0., 1., 0., 0., 0., 0., 0., 0.])\n",
      "tensor([1., 0., 0., 0., 0., 0., 0., 0., 0., 0.])\n",
      "tensor([0., 0., 1., 0., 0., 0., 0., 0., 0., 0.])\n",
      "tensor([0., 0., 0., 0., 0., 0., 0., 1., 0., 0.])\n",
      "tensor([0., 0., 1., 0., 0., 0., 0., 0., 0., 0.])\n",
      "tensor([0., 0., 0., 0., 0., 1., 0., 0., 0., 0.])\n",
      "tensor([0., 0., 0., 0., 0., 1., 0., 0., 0., 0.])\n"
     ]
    }
   ],
   "source": [
    "# print first ten one-hot encoded labels from the dataset\n",
    "for i in range(10):\n",
    "    print(ds[i][1])\n"
   ]
  }
 ],
 "metadata": {
  "kernelspec": {
   "display_name": "Python 3.10.4 64-bit",
   "language": "python",
   "name": "python3"
  },
  "language_info": {
   "codemirror_mode": {
    "name": "ipython",
    "version": 3
   },
   "file_extension": ".py",
   "mimetype": "text/x-python",
   "name": "python",
   "nbconvert_exporter": "python",
   "pygments_lexer": "ipython3",
   "version": "3.10.4"
  },
  "orig_nbformat": 4,
  "vscode": {
   "interpreter": {
    "hash": "b45196988e397c3f9973087e1b537003606a4f189ad9734f2bca00ff29e85777"
   }
  }
 },
 "nbformat": 4,
 "nbformat_minor": 2
}
