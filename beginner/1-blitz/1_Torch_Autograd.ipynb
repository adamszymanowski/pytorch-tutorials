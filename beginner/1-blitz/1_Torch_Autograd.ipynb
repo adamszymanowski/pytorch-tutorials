{
 "cells": [
  {
   "cell_type": "markdown",
   "metadata": {},
   "source": [
    "# A Gentle Introduction to torch.autograd\n",
    "`torch.autograd` is PyTorch's automatic differentiation engine that powers neural network training.\n",
    "In this section, you will get a conceptual understanding of how autograd helps a neural network train.\n",
    "\n",
    "## Background \n",
    "Neural networks (NNs) are collection of nested functions that are executed on some input data.\n",
    "These functions are defined by *parameters* (consisting of weights and biases), which in PyTorch\n",
    "are stored in tensors.\n",
    "\n",
    "Training a NN happens in two steps:\n",
    "\n",
    "**Forward Propagation**: In forward prop, the NN makes its best guess about the correct output. It runs the input data through each of its functions to make this guess.\n",
    "\n",
    "**Backward Propagation**: In backprop, the NN adjsts its parameters proportionate to the error in its guess. It does this by traversing backwards from the output, collecting the derivatives of the error with respect to the parameters of the functions (gradients), and optimizing the parameters using gradient descent.\n",
    "\n",
    "## Usage in PyTorch\n",
    "Let's look at a single training step. For this example, we load a pretrained resnet18 model from `torchvision`. We create a random data tensor to represent a single image with 3 channels, and height & width of 64, and its corresponding `label` initialized to some random values. Label in pretrained models has shape (1,1000).\n",
    "\n",
    "NOTE: This tutorial work only on CPU and will not work on GPU (even if tensor are moved to CUDA)."
   ]
  },
  {
   "cell_type": "code",
   "execution_count": 1,
   "metadata": {},
   "outputs": [
    {
     "name": "stderr",
     "output_type": "stream",
     "text": [
      "c:\\Users\\szymanowskia\\AppData\\Local\\Programs\\Python\\Python310\\lib\\site-packages\\torchvision\\models\\_utils.py:208: UserWarning: The parameter 'pretrained' is deprecated since 0.13 and will be removed in 0.15, please use 'weights' instead.\n",
      "  warnings.warn(\n",
      "c:\\Users\\szymanowskia\\AppData\\Local\\Programs\\Python\\Python310\\lib\\site-packages\\torchvision\\models\\_utils.py:223: UserWarning: Arguments other than a weight enum or `None` for 'weights' are deprecated since 0.13 and will be removed in 0.15. The current behavior is equivalent to passing `weights=ResNet18_Weights.IMAGENET1K_V1`. You can also use `weights=ResNet18_Weights.DEFAULT` to get the most up-to-date weights.\n",
      "  warnings.warn(msg)\n",
      "Downloading: \"https://download.pytorch.org/models/resnet18-f37072fd.pth\" to C:\\Users\\szymanowskia/.cache\\torch\\hub\\checkpoints\\resnet18-f37072fd.pth\n",
      "100.0%\n"
     ]
    }
   ],
   "source": [
    "import torch, torchvision\n",
    "model = torchvision.models.resnet18(pretrained=True)\n",
    "data = torch.rand(1, 3, 64, 64)\n",
    "labels = torch.rand(1, 1000)"
   ]
  },
  {
   "cell_type": "markdown",
   "metadata": {},
   "source": [
    "Next, we run the input data through the model through each of its layers to make a prediction. \n",
    "This is the **forward pass**."
   ]
  },
  {
   "cell_type": "code",
   "execution_count": 2,
   "metadata": {},
   "outputs": [],
   "source": [
    "prediction = model(data) # forward pass"
   ]
  },
  {
   "cell_type": "markdown",
   "metadata": {},
   "source": [
    "We use the model's prediction and the corresponding label to calculate the error (`loss`). The next step is to backpropagate this error through the network. Backward propagation is kicked off when we call `.backward()` on the error tensor. Autograd then calulates and stores the gradients for each model parameter in the parameter's `.grad` attribute. "
   ]
  },
  {
   "cell_type": "code",
   "execution_count": null,
   "metadata": {},
   "outputs": [],
   "source": [
    "loss = (prediction - labels).sum()\n",
    "loss.backward() # backward pass"
   ]
  },
  {
   "cell_type": "markdown",
   "metadata": {},
   "source": [
    "Next, we load an optimizer, in this case SGD with a learning rate of 0.01 and momentum of 0.9. We register all the parameters of the model in the optimizer."
   ]
  },
  {
   "cell_type": "code",
   "execution_count": 4,
   "metadata": {},
   "outputs": [],
   "source": [
    "optim = torch.optim.SGD(model.parameters(), lr=1e-2, momentum=0.9)"
   ]
  },
  {
   "cell_type": "markdown",
   "metadata": {},
   "source": [
    "Finally, we call `.step()` to initiate gradient dscent. The optimizer adjusts each parameter by its gradient stored in `.grad`."
   ]
  },
  {
   "cell_type": "code",
   "execution_count": 5,
   "metadata": {},
   "outputs": [],
   "source": [
    "optim.step() # gradient descent"
   ]
  },
  {
   "cell_type": "markdown",
   "metadata": {},
   "source": [
    "## Differentiation in Autograds\n",
    "Let's take a look at how `autograd` collects gradients. We create two tensors `a` and `b` with `requires_grad=True`.\n",
    "This signals `autograd` that every operation on them should be tracked."
   ]
  },
  {
   "cell_type": "code",
   "execution_count": 6,
   "metadata": {},
   "outputs": [],
   "source": [
    "import torch\n",
    "a = torch.tensor([2.,3.], requires_grad=True)\n",
    "b = torch.tensor([6.,4.], requires_grad=True)"
   ]
  },
  {
   "cell_type": "markdown",
   "metadata": {},
   "source": [
    "We create another tensor `Q` form `a` and `b`\n",
    "$$\n",
    "Q = 3a^3 - b^2\n",
    "$$"
   ]
  },
  {
   "cell_type": "code",
   "execution_count": 7,
   "metadata": {},
   "outputs": [],
   "source": [
    "Q = 3*a**3 - b**2"
   ]
  },
  {
   "cell_type": "markdown",
   "metadata": {},
   "source": [
    "Let's assume `a` and `b` to be parameters of an NN, and `Q` to be the error. In NN training, we want gradients of the error w.r.t. parameters, i.e.\n",
    "\n",
    "$$\n",
    "    \\frac{\\partial Q}{\\partial a} = 9a^2 \\\\[10pt]\n",
    "    \\frac{\\partial Q}{\\partial b} = -2b\n",
    "$$\n",
    "\n",
    "When we call `.backward` on `Q`, autograd calculates these gradients and stores them in the respective tensors' `.grad` attribute.\n",
    "\n",
    "We need to explicitly pass a `gradient` rgument in `Q.backward()` because it is a vector. `gradient` is a tensor of the same shape as `Q`, and it represents the gradient w.r.t. itself, i.e.\n",
    "$$\n",
    "    \\frac{dQ}{dQ} = 1\n",
    "$$\n",
    "\n",
    "Equivalently, we can also aggregate Q into a scalar and call backward implicitly, like `Q.sum().backward()`"
   ]
  },
  {
   "cell_type": "code",
   "execution_count": 8,
   "metadata": {},
   "outputs": [],
   "source": [
    "external_grad = torch.tensor([1., 1.])\n",
    "Q.backward(gradient=external_grad)"
   ]
  },
  {
   "cell_type": "markdown",
   "metadata": {},
   "source": [
    "Gradients are now deposited in `a.grad` and `b.grad`"
   ]
  },
  {
   "cell_type": "code",
   "execution_count": 9,
   "metadata": {},
   "outputs": [
    {
     "name": "stdout",
     "output_type": "stream",
     "text": [
      "tensor([True, True])\n",
      "tensor([True, True])\n"
     ]
    }
   ],
   "source": [
    "# check if collected gradients are correct\n",
    "print(9*a**2 == a.grad)\n",
    "print(-2*b == b.grad) "
   ]
  },
  {
   "cell_type": "markdown",
   "metadata": {},
   "source": [
    "## Vector Calculus using autograd\n",
    "Mathematically, if you have a vector valued function $ \\vec{y} = f(\\vec{x}) $, then gradient of $ \\vec{y} $ with respect to $ \\vec{x} $ is a jacobian matrix $ J $:\n",
    "$$\n",
    "    J = \\left( \\frac{\\partial y}{\\partial x_1} \\ldots \\frac{\\partial y}{\\partial x_n} \\right)^T\n",
    "    \n",
    "$$\n",
    "\n",
    "then by chain rule, the vector-Jacobian product would be the gradient of $ l $ with respect to $ \\vec{x} $:\n",
    "\n",
    "$$\n",
    "    J^T \\cdot \\vec{v} =\n",
    "    \\begin{pmatrix}\n",
    "        \\frac{\\partial y_1}{\\partial x_1} & \\cdots & \\frac{\\partial y_1}{\\partial x_n} \\\\\n",
    "        \\vdots & \\ddots & \\vdots \\\\\n",
    "        \\frac{\\partial y_m}{\\partial x_1} & \\cdots & \\frac{y_m}{x_n}\n",
    "    \\end{pmatrix}\n",
    "\n",
    "    \\begin{pmatrix}\n",
    "        \\frac{\\partial l}{\\partial y_1} \\\\\n",
    "        \\vdots \\\\\n",
    "        \\frac{\\partial l}{\\partial y_m}\n",
    "    \\end{pmatrix}\n",
    "    =\n",
    "    \\begin{pmatrix}\n",
    "        \\frac{\\partial l}{\\partial x_1} \\\\\n",
    "        \\vdots \\\\\n",
    "        \\frac{\\partial l}{\\partial x_n}\n",
    "    \\end{pmatrix}\n",
    "$$\n",
    "\n",
    "This characteristic of vector-Jacobian product is what we use in the above example; `external_grad`\n",
    "represents $ \\vec{v} $\n",
    "\n",
    "## Computational Graph\n",
    "\n",
    "Conceptually, autograd keeps a record of data (tensors) & all executed operations (along with the resulting new tensors) in a directed acyclic graph (DAG) consisting of `Function` objects. in this DAG, leaves are the input tensors, roots are the output tensors. By tracing this graph from roots to leaves, you can automatically compute the gradients using the chair rule.\n",
    "\n",
    "In a forward pass, autograd does two things simultaneously:\n",
    "- run the requested operation to compute a resulting tensor, and\n",
    "- maintain the operation's gradient function in the DAG.\n",
    "\n",
    "The backward pass kick off when `.backward()` is called on the DAG root. `autograd` then:\n",
    "- computes the gradients from each `.grad_fn`,\n",
    "- accumulates them in the respective tensor's `.grad` attribute, and\n",
    "- using the chain rule, propagates all the way to the leaf tensors\n",
    "\n",
    "NOTE: **DAGs are dynamic in PyToch** An important thing to note is that the graph is recreated from scratch;\n",
    "after each `.backward()` call, autograd starts populating a new graph. this is exactly what allows you to use control flow statements in your model; you can change the shape, size and operations at every iteration if needed.\n",
    "\n",
    "## Exclusion from the DAG\n",
    "`torch.autograd` tracks operations on all tensors which have their `requires_grad` flag set to `True`. For tensors that don't require gradients, setting this attribute to `False` excludes it from the gradient computatio DAG.\n",
    "\n",
    "The output tensor of an operation will require gradients even if only a single input tensor has \n",
    "`requires_grad=True`"
   ]
  },
  {
   "cell_type": "code",
   "execution_count": 11,
   "metadata": {},
   "outputs": [
    {
     "name": "stdout",
     "output_type": "stream",
     "text": [
      "Does `a` require gradients? : False\n",
      "does `b` require gradients? : True\n"
     ]
    }
   ],
   "source": [
    "x = torch.rand(5, 5)\n",
    "y = torch.rand(5, 5)\n",
    "z = torch.rand((5, 5), requires_grad=True)\n",
    "\n",
    "a = x + y\n",
    "print(f\"Does `a` require gradients? : {a.requires_grad}\")\n",
    "b = x + z\n",
    "print(f\"does `b` require gradients? : {b.requires_grad}\")"
   ]
  },
  {
   "cell_type": "markdown",
   "metadata": {},
   "source": [
    "In a NN, parameters that don't compute graients are usually called **frozen parameters**. it is useful to \"freeze\" part of you model if you know in advance that you won't need the gradents of those parameters (this offers some performance benefits by reducing autograd computations).\n",
    "\n",
    "Another common usecase  where exclusion from the DAG is important is for finetuning a pretrained network.\n",
    "\n",
    "In finetunig, we freeze most of the models and typically only modify the classifier layers to make predictions on new labels. Let's walk through a small example to demonstrate this. As befor, we load a pretrained resnet18 model, and freeze all the parameters."
   ]
  },
  {
   "cell_type": "code",
   "execution_count": 13,
   "metadata": {},
   "outputs": [],
   "source": [
    "from torch import nn, optim\n",
    "model = torchvision.models.resnet18(pretrained=True)\n",
    "\n",
    "# Freeze all the parameters in the network\n",
    "for param in model.parameters():\n",
    "    param.requires_grad = False"
   ]
  },
  {
   "cell_type": "markdown",
   "metadata": {},
   "source": [
    "Let's say we want to finetune the model on a new dataset with 10 labels. In resnet, the classifier is the last linear layer `model.fc`. we can simply replace it with a new linear layer (unfrozen by default) that acts as our classifier."
   ]
  },
  {
   "cell_type": "code",
   "execution_count": 15,
   "metadata": {},
   "outputs": [],
   "source": [
    "model.fc = nn.Linear(512, 10)"
   ]
  },
  {
   "cell_type": "markdown",
   "metadata": {},
   "source": [
    "Now all parameters in the model, except the parameters of `model.fc`, are frozen. The only parameters that compute gradients are the weights and bias of `model.fc`"
   ]
  },
  {
   "cell_type": "code",
   "execution_count": 16,
   "metadata": {},
   "outputs": [],
   "source": [
    "# Optimize only the classifier\n",
    "optimizer = optim.SGD(model.parameters(), lr=1e-2, momentum=0.9)"
   ]
  },
  {
   "cell_type": "markdown",
   "metadata": {},
   "source": [
    "Notice although we register all the parameters in the optimizer, the only parameters that are computing gradients (and hence updated in gradient descent) are the weights and bias of the classifier.\n",
    "\n",
    "The same exclusonary functionality is availabe as a context manager in `torch.nograd()`"
   ]
  }
 ],
 "metadata": {
  "kernelspec": {
   "display_name": "Python 3.10.4 64-bit",
   "language": "python",
   "name": "python3"
  },
  "language_info": {
   "codemirror_mode": {
    "name": "ipython",
    "version": 3
   },
   "file_extension": ".py",
   "mimetype": "text/x-python",
   "name": "python",
   "nbconvert_exporter": "python",
   "pygments_lexer": "ipython3",
   "version": "3.10.4"
  },
  "orig_nbformat": 4,
  "vscode": {
   "interpreter": {
    "hash": "b45196988e397c3f9973087e1b537003606a4f189ad9734f2bca00ff29e85777"
   }
  }
 },
 "nbformat": 4,
 "nbformat_minor": 2
}
